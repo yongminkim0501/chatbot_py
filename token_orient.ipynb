{
  "nbformat": 4,
  "nbformat_minor": 0,
  "metadata": {
    "colab": {
      "provenance": [],
      "authorship_tag": "ABX9TyMwVhNFNQ9qUI0FC0O06nyB",
      "include_colab_link": true
    },
    "kernelspec": {
      "name": "python3",
      "display_name": "Python 3"
    },
    "language_info": {
      "name": "python"
    }
  },
  "cells": [
    {
      "cell_type": "markdown",
      "metadata": {
        "id": "view-in-github",
        "colab_type": "text"
      },
      "source": [
        "<a href=\"https://colab.research.google.com/github/yongminkim0501/chatbot_py/blob/main/token_orient.ipynb\" target=\"_parent\"><img src=\"https://colab.research.google.com/assets/colab-badge.svg\" alt=\"Open In Colab\"/></a>"
      ]
    },
    {
      "cell_type": "code",
      "execution_count": null,
      "metadata": {
        "id": "YOkJpr9SL-A9"
      },
      "outputs": [],
      "source": [
        "from abc import ABC, abstractmethod\n",
        "#from django.conf import settings\n",
        "'''\n",
        "token 기능 관리를 위한 분리 클래스, abstract를 통해서 token 관리에 직접 접근 x,\n",
        "직접 접근 하지 않기 때문에 token 변화에 대해서 직접적 코드 변화가 생기지 않음.\n",
        "기존의 코드의 경우 -> token의 직접적인 주소 접근을 통하기 때문에\n",
        "해당 코드의 변화가 생기면 해당 코드가 수정되어야 하며\n",
        "service.py 해당 함수 (파일 전체)가 변화함.\n",
        "하지만 현재 코드의 경우 client가 main() 속 인터페이스에만 의존을 하며, 해당 인터페이스 속 구체 클래스에 대해서\n",
        "직접적인 의존성을 갖지 않음.\n",
        "하지만 해당 token 데이터 만을 접근하는 용도로는 굳이의 느낌이 있지만, 이 구조를 공통적으로 사용하여\n",
        "외부 api 또는 외부 token 에 대한 접근이 필요하다면, 해당 구조를 유지하는 것이 도움이 됨.\n",
        "'''\n",
        "class Token(ABC):\n",
        "  @abstractmethod\n",
        "  def get_token(self) --> str:\n",
        "    pass\n",
        "  @abstractmethod\n",
        "  def reconnect_token(self) --> str:\n",
        "    pass\n",
        "\n",
        "\n",
        "class TokenData(Token):\n",
        "  def get_token(self):\n",
        "    token = getattr(settings, 'FINANCIAL_API_TOKEN', None)\n",
        "    if not token:\n",
        "      raise ValueError(\"Token not found\")\n",
        "    return token\n",
        "  def reconnect_token(self):\n",
        "    return self.get_token(self)\n",
        "\n",
        "#Factory 패턴\n",
        "class TokenFactory:\n",
        "  @staticmethod\n",
        "  def create_token() -> Token:\n",
        "    return TokenData()\n",
        "\n",
        "def main():\n",
        "  token_provide = TokenFactory.create_token()\n",
        "  token = token_provide.get_token()\n",
        "\n",
        "if __name__ == \"__main__\":\n",
        "  main()"
      ]
    }
  ]
}